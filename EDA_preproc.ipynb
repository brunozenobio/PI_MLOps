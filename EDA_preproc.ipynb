{
 "cells": [
  {
   "cell_type": "markdown",
   "metadata": {},
   "source": [
    "# Proceso  de EDA para estudiar los datos, y preparacion para hacer un modelo de recomendacion"
   ]
  },
  {
   "cell_type": "code",
   "execution_count": 4,
   "metadata": {},
   "outputs": [],
   "source": [
    "import pandas as pd\n",
    "import numpy as np\n",
    "import matplotlib.pyplot as plt\n",
    "import seaborn as sns\n",
    "import gzip"
   ]
  },
  {
   "cell_type": "markdown",
   "metadata": {},
   "source": [
    "## Steam Games"
   ]
  },
  {
   "cell_type": "code",
   "execution_count": null,
   "metadata": {},
   "outputs": [],
   "source": [
    "steam_games = pd.read_csv('./datasets/steam_games.csv')"
   ]
  },
  {
   "cell_type": "code",
   "execution_count": null,
   "metadata": {},
   "outputs": [],
   "source": [
    "steam_games.info()"
   ]
  },
  {
   "cell_type": "code",
   "execution_count": null,
   "metadata": {},
   "outputs": [],
   "source": [
    "fig,ax = plt.subplots(1,3)\n",
    "sns.boxplot(data=steam_games,y='price',ax = ax[0])\n",
    "sns.boxplot(data=steam_games,y='price',ax = ax[1])\n",
    "sns.boxplot(data=steam_games,y='price',ax = ax[2])\n",
    "ax[0].set_ylim(0,100)\n",
    "ax[1].set_ylim(0,400)\n",
    "ax[2].set_ylim(0,800)\n",
    "plt.show()"
   ]
  },
  {
   "cell_type": "markdown",
   "metadata": {},
   "source": [
    "### En el grafico se puede ver que la columna price tiene muchos valores atipicos que superan los 20 y llegan a los 1000, sin embargo en una app de juegos es posible tener tal distribucion, es decir muchos juegos de precio bajo y varios de precio alto por esto no se hara un tratado especial"
   ]
  },
  {
   "cell_type": "code",
   "execution_count": null,
   "metadata": {},
   "outputs": [],
   "source": [
    "sns.histplot(data=steam_games,x='Year',hue='Free to Play',bins=10,palette='rainbow',multiple='dodge')\n",
    "\n",
    "plt.ylim(0,20000)\n",
    "plt.show()"
   ]
  },
  {
   "cell_type": "markdown",
   "metadata": {},
   "source": [
    "### 2015 es el año con mas juegos y mas juegos Free To Play"
   ]
  },
  {
   "cell_type": "markdown",
   "metadata": {},
   "source": [
    "## Users Reviews"
   ]
  },
  {
   "cell_type": "code",
   "execution_count": null,
   "metadata": {},
   "outputs": [],
   "source": [
    "user_review = pd.read_csv('./datasets/user_reviews.csv')"
   ]
  },
  {
   "cell_type": "code",
   "execution_count": null,
   "metadata": {},
   "outputs": [],
   "source": [
    "user_review.sample(5)"
   ]
  },
  {
   "cell_type": "code",
   "execution_count": null,
   "metadata": {},
   "outputs": [],
   "source": [
    "sns.histplot(data=user_review,x='sentiment_analysis',bins=10,palette='rainbow',hue='recommend')\n",
    "\n",
    "plt.show()"
   ]
  },
  {
   "cell_type": "markdown",
   "metadata": {},
   "source": [
    "### Como se ve del total de sentimiento malos, un alto porcentaje son recomendaciones falsas, y de los buenos el total de recomendaciones true son altas, Para ambas hay un porcentaje existente de recomendaciones que parecen opuesta al sentimiento"
   ]
  },
  {
   "cell_type": "markdown",
   "metadata": {},
   "source": [
    "## Users Items"
   ]
  },
  {
   "cell_type": "code",
   "execution_count": 5,
   "metadata": {},
   "outputs": [],
   "source": [
    "with gzip.open('datasets/user_items_proc.csv.gz', 'rb') as f:\n",
    "    user_items_proc = pd.read_csv(f, encoding='utf-8')"
   ]
  },
  {
   "cell_type": "code",
   "execution_count": 6,
   "metadata": {},
   "outputs": [
    {
     "data": {
      "text/html": [
       "<div>\n",
       "<style scoped>\n",
       "    .dataframe tbody tr th:only-of-type {\n",
       "        vertical-align: middle;\n",
       "    }\n",
       "\n",
       "    .dataframe tbody tr th {\n",
       "        vertical-align: top;\n",
       "    }\n",
       "\n",
       "    .dataframe thead th {\n",
       "        text-align: right;\n",
       "    }\n",
       "</style>\n",
       "<table border=\"1\" class=\"dataframe\">\n",
       "  <thead>\n",
       "    <tr style=\"text-align: right;\">\n",
       "      <th></th>\n",
       "      <th>user_id</th>\n",
       "      <th>items_count</th>\n",
       "      <th>steam_id</th>\n",
       "      <th>user_url</th>\n",
       "      <th>item_id</th>\n",
       "      <th>item_name</th>\n",
       "      <th>playtime_forever</th>\n",
       "      <th>playtime_2weeks</th>\n",
       "    </tr>\n",
       "  </thead>\n",
       "  <tbody>\n",
       "    <tr>\n",
       "      <th>3834437</th>\n",
       "      <td>defected00</td>\n",
       "      <td>74</td>\n",
       "      <td>76561197962151545</td>\n",
       "      <td>http://steamcommunity.com/id/defected00</td>\n",
       "      <td>407530.0</td>\n",
       "      <td>ARK: Survival Of The Fittest</td>\n",
       "      <td>0.0</td>\n",
       "      <td>0.0</td>\n",
       "    </tr>\n",
       "    <tr>\n",
       "      <th>915013</th>\n",
       "      <td>Napalm_Industry</td>\n",
       "      <td>455</td>\n",
       "      <td>76561198035066628</td>\n",
       "      <td>http://steamcommunity.com/id/Napalm_Industry</td>\n",
       "      <td>207610.0</td>\n",
       "      <td>The Walking Dead</td>\n",
       "      <td>685.0</td>\n",
       "      <td>0.0</td>\n",
       "    </tr>\n",
       "    <tr>\n",
       "      <th>31845</th>\n",
       "      <td>mrpfresh</td>\n",
       "      <td>791</td>\n",
       "      <td>76561197974266367</td>\n",
       "      <td>http://steamcommunity.com/id/mrpfresh</td>\n",
       "      <td>212910.0</td>\n",
       "      <td>Call of Duty: Black Ops II - Zombies</td>\n",
       "      <td>1.0</td>\n",
       "      <td>0.0</td>\n",
       "    </tr>\n",
       "    <tr>\n",
       "      <th>2006524</th>\n",
       "      <td>myeyesarepuzzlepieces</td>\n",
       "      <td>196</td>\n",
       "      <td>76561197994759419</td>\n",
       "      <td>http://steamcommunity.com/id/myeyesarepuzzlepi...</td>\n",
       "      <td>200510.0</td>\n",
       "      <td>XCOM: Enemy Unknown</td>\n",
       "      <td>4853.0</td>\n",
       "      <td>0.0</td>\n",
       "    </tr>\n",
       "    <tr>\n",
       "      <th>2320117</th>\n",
       "      <td>76561198067764491</td>\n",
       "      <td>94</td>\n",
       "      <td>76561198067764491</td>\n",
       "      <td>http://steamcommunity.com/profiles/76561198067...</td>\n",
       "      <td>4760.0</td>\n",
       "      <td>Rome: Total War</td>\n",
       "      <td>283.0</td>\n",
       "      <td>0.0</td>\n",
       "    </tr>\n",
       "  </tbody>\n",
       "</table>\n",
       "</div>"
      ],
      "text/plain": [
       "                       user_id  items_count           steam_id  \\\n",
       "3834437             defected00           74  76561197962151545   \n",
       "915013         Napalm_Industry          455  76561198035066628   \n",
       "31845                 mrpfresh          791  76561197974266367   \n",
       "2006524  myeyesarepuzzlepieces          196  76561197994759419   \n",
       "2320117      76561198067764491           94  76561198067764491   \n",
       "\n",
       "                                                  user_url   item_id  \\\n",
       "3834437            http://steamcommunity.com/id/defected00  407530.0   \n",
       "915013        http://steamcommunity.com/id/Napalm_Industry  207610.0   \n",
       "31845                http://steamcommunity.com/id/mrpfresh  212910.0   \n",
       "2006524  http://steamcommunity.com/id/myeyesarepuzzlepi...  200510.0   \n",
       "2320117  http://steamcommunity.com/profiles/76561198067...    4760.0   \n",
       "\n",
       "                                    item_name  playtime_forever  \\\n",
       "3834437          ARK: Survival Of The Fittest               0.0   \n",
       "915013                       The Walking Dead             685.0   \n",
       "31845    Call of Duty: Black Ops II - Zombies               1.0   \n",
       "2006524                   XCOM: Enemy Unknown            4853.0   \n",
       "2320117                       Rome: Total War             283.0   \n",
       "\n",
       "         playtime_2weeks  \n",
       "3834437              0.0  \n",
       "915013               0.0  \n",
       "31845                0.0  \n",
       "2006524              0.0  \n",
       "2320117              0.0  "
      ]
     },
     "execution_count": 6,
     "metadata": {},
     "output_type": "execute_result"
    }
   ],
   "source": [
    "user_items_proc.sample(5)"
   ]
  },
  {
   "cell_type": "code",
   "execution_count": 7,
   "metadata": {},
   "outputs": [
    {
     "data": {
      "text/plain": [
       "10978"
      ]
     },
     "execution_count": 7,
     "metadata": {},
     "output_type": "execute_result"
    }
   ],
   "source": [
    "user_items_proc['item_id'].nunique()"
   ]
  },
  {
   "cell_type": "code",
   "execution_count": 4,
   "metadata": {},
   "outputs": [
    {
     "data": {
      "text/html": [
       "<div>\n",
       "<style scoped>\n",
       "    .dataframe tbody tr th:only-of-type {\n",
       "        vertical-align: middle;\n",
       "    }\n",
       "\n",
       "    .dataframe tbody tr th {\n",
       "        vertical-align: top;\n",
       "    }\n",
       "\n",
       "    .dataframe thead th {\n",
       "        text-align: right;\n",
       "    }\n",
       "</style>\n",
       "<table border=\"1\" class=\"dataframe\">\n",
       "  <thead>\n",
       "    <tr style=\"text-align: right;\">\n",
       "      <th></th>\n",
       "      <th>items_count</th>\n",
       "      <th>steam_id</th>\n",
       "      <th>item_id</th>\n",
       "      <th>playtime_forever</th>\n",
       "      <th>playtime_2weeks</th>\n",
       "    </tr>\n",
       "  </thead>\n",
       "  <tbody>\n",
       "    <tr>\n",
       "      <th>count</th>\n",
       "      <td>5.153209e+06</td>\n",
       "      <td>5.153209e+06</td>\n",
       "      <td>5.153209e+06</td>\n",
       "      <td>5.153209e+06</td>\n",
       "      <td>5.153209e+06</td>\n",
       "    </tr>\n",
       "    <tr>\n",
       "      <th>mean</th>\n",
       "      <td>3.147229e+02</td>\n",
       "      <td>7.656120e+16</td>\n",
       "      <td>1.784481e+05</td>\n",
       "      <td>9.914951e+02</td>\n",
       "      <td>9.104707e+00</td>\n",
       "    </tr>\n",
       "    <tr>\n",
       "      <th>std</th>\n",
       "      <td>6.933596e+02</td>\n",
       "      <td>3.916645e+07</td>\n",
       "      <td>1.318598e+05</td>\n",
       "      <td>5.418204e+03</td>\n",
       "      <td>1.403926e+02</td>\n",
       "    </tr>\n",
       "    <tr>\n",
       "      <th>min</th>\n",
       "      <td>1.000000e+00</td>\n",
       "      <td>7.656120e+16</td>\n",
       "      <td>1.000000e+01</td>\n",
       "      <td>0.000000e+00</td>\n",
       "      <td>0.000000e+00</td>\n",
       "    </tr>\n",
       "    <tr>\n",
       "      <th>25%</th>\n",
       "      <td>7.200000e+01</td>\n",
       "      <td>7.656120e+16</td>\n",
       "      <td>3.446000e+04</td>\n",
       "      <td>0.000000e+00</td>\n",
       "      <td>0.000000e+00</td>\n",
       "    </tr>\n",
       "    <tr>\n",
       "      <th>50%</th>\n",
       "      <td>1.380000e+02</td>\n",
       "      <td>7.656120e+16</td>\n",
       "      <td>2.144200e+05</td>\n",
       "      <td>3.400000e+01</td>\n",
       "      <td>0.000000e+00</td>\n",
       "    </tr>\n",
       "    <tr>\n",
       "      <th>75%</th>\n",
       "      <td>2.760000e+02</td>\n",
       "      <td>7.656120e+16</td>\n",
       "      <td>2.664300e+05</td>\n",
       "      <td>3.550000e+02</td>\n",
       "      <td>0.000000e+00</td>\n",
       "    </tr>\n",
       "    <tr>\n",
       "      <th>max</th>\n",
       "      <td>7.762000e+03</td>\n",
       "      <td>7.656120e+16</td>\n",
       "      <td>5.307200e+05</td>\n",
       "      <td>6.427730e+05</td>\n",
       "      <td>1.996700e+04</td>\n",
       "    </tr>\n",
       "  </tbody>\n",
       "</table>\n",
       "</div>"
      ],
      "text/plain": [
       "        items_count      steam_id       item_id  playtime_forever  \\\n",
       "count  5.153209e+06  5.153209e+06  5.153209e+06      5.153209e+06   \n",
       "mean   3.147229e+02  7.656120e+16  1.784481e+05      9.914951e+02   \n",
       "std    6.933596e+02  3.916645e+07  1.318598e+05      5.418204e+03   \n",
       "min    1.000000e+00  7.656120e+16  1.000000e+01      0.000000e+00   \n",
       "25%    7.200000e+01  7.656120e+16  3.446000e+04      0.000000e+00   \n",
       "50%    1.380000e+02  7.656120e+16  2.144200e+05      3.400000e+01   \n",
       "75%    2.760000e+02  7.656120e+16  2.664300e+05      3.550000e+02   \n",
       "max    7.762000e+03  7.656120e+16  5.307200e+05      6.427730e+05   \n",
       "\n",
       "       playtime_2weeks  \n",
       "count     5.153209e+06  \n",
       "mean      9.104707e+00  \n",
       "std       1.403926e+02  \n",
       "min       0.000000e+00  \n",
       "25%       0.000000e+00  \n",
       "50%       0.000000e+00  \n",
       "75%       0.000000e+00  \n",
       "max       1.996700e+04  "
      ]
     },
     "execution_count": 4,
     "metadata": {},
     "output_type": "execute_result"
    }
   ],
   "source": [
    "user_items_proc.describe()"
   ]
  },
  {
   "cell_type": "code",
   "execution_count": 9,
   "metadata": {},
   "outputs": [
    {
     "data": {
      "image/png": "[encoded data removed]",
      "text/plain": [
       "<Figure size 640x480 with 1 Axes>"
      ]
     },
     "metadata": {},
     "output_type": "display_data"
    }
   ],
   "source": [
    "sns.scatterplot(data=user_items_proc,x='items_count',y='playtime_forever')\n",
    "plt.show()"
   ]
  }
 ],
 "metadata": {
  "kernelspec": {
   "display_name": ".venv",
   "language": "python",
   "name": "python3"
  },
  "language_info": {
   "codemirror_mode": {
    "name": "ipython",
    "version": 3
   },
   "file_extension": ".py",
   "mimetype": "text/x-python",
   "name": "python",
   "nbconvert_exporter": "python",
   "pygments_lexer": "ipython3",
   "version": "3.8.10"
  }
 },
 "nbformat": 4,
 "nbformat_minor": 2
}
