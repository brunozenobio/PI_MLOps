{
 "cells": [
  {
   "cell_type": "code",
   "execution_count": null,
   "metadata": {},
   "outputs": [],
   "source": [
    "import pandas as pd\n",
    "from datetime import datetime\n",
    "import ast\n",
    "import gzip\n"
   ]
  },
  {
   "cell_type": "code",
   "execution_count": null,
   "metadata": {},
   "outputs": [],
   "source": [
    "with gzip.open('datasets/user_items_proc.csv.gz', 'rb') as f:\n",
    "    user_items_proc = pd.read_csv(f, encoding='utf-8')\n",
    "    \n",
    "with gzip.open('datasets/users_items.csv.gz', 'rb') as f:\n",
    "    users_items = pd.read_csv(f, encoding='utf-8')\n",
    "    \n",
    "steam_games = pd.read_csv('./datasets/steam_games.csv', parse_dates=['release_date'])\n",
    "user_review = pd.read_csv('./datasets/user_reviews.csv')"
   ]
  },
  {
   "cell_type": "code",
   "execution_count": null,
   "metadata": {},
   "outputs": [],
   "source": [
    "diner_user = pd.merge(user_items_proc[['user_id','items_count','item_name']],steam_games[['app_name','price']],left_on='item_name',right_on='app_name',how='left')"
   ]
  },
  {
   "cell_type": "code",
   "execution_count": 48,
   "metadata": {},
   "outputs": [],
   "source": [
    "users_items = diner_user.groupby('user_id').agg(\n",
    "    {\n",
    "       'items_count':'sum',\n",
    "        'price':'sum'\n",
    "    }\n",
    ").reset_index()\n",
    "\n",
    "recomendaciones_true = user_review.groupby('user_id')['recommend'].sum()\n",
    "total_registros_por_usuario = user_review.groupby('user_id')['recommend'].count()\n",
    "porcentaje_recomendaciones_true = (recomendaciones_true / total_registros_por_usuario) * 100\n",
    "users_true_reviews = pd.DataFrame({\n",
    "    'user_id': porcentaje_recomendaciones_true.index,\n",
    "    'porcentaje_recomendaciones_true': porcentaje_recomendaciones_true.values\n",
    "})\n",
    "items_reviews_users = pd.merge(users_items,users_true_reviews,on='user_id',how='inner')\n",
    "items_reviews_users.to_csv('./datasets/items_reviews_users.csv')"
   ]
  },
  {
   "cell_type": "code",
   "execution_count": 50,
   "metadata": {},
   "outputs": [],
   "source": [
    "def userdata(User_id:str):\n",
    "    items_reviews_users = pd.read_csv('datasets/items_reviews_users.csv')\n",
    "    user = items_reviews_users[items_reviews_users['user_id'].str.lower() == User_id.lower()]\n",
    "    return {'Usuario X':user['user_id'].iloc[0],\n",
    "            'Dinero gastado':f'{round(user[\"price\"].iloc[0],2)} USD',\n",
    "            f'% de recomendación':f'{user[\"porcentaje_recomendaciones_true\"].iloc[0]} %',\n",
    "            'cantidad de items': user['items_count'].iloc[0]                   \n",
    "            } \n",
    "    \n"
   ]
  },
  {
   "cell_type": "code",
   "execution_count": null,
   "metadata": {},
   "outputs": [],
   "source": [
    "def UserForGenre(genero:str):\n",
    "    genero = genero.lower()\n",
    "    steam_games_cop = steam_games\n",
    "    steam_games_cop.columns = steam_games.columns.str.lower()\n",
    "    generos = steam_games.drop(columns=['app_name','release_date','specs','price','id','developer','year']).columns\n",
    "    if genero not in generos:\n",
    "        return \"No existe ese género\"\n",
    "    # FALTA ARREGLAR QUE EL GENERO PUEDA SER INGRESADO CON MAYUSCULAS O MINUSCULAS    \n",
    "    usuarios_games = pd.merge(users_items_proc,steam_games,left_on='item_name',right_on='app_name',how='inner')\n",
    "    usuarios_games = usuarios_games[usuarios_games[genero]==1]\n",
    "    user_max_hor = usuarios_games.groupby(['user_id'])['playtime_forever'].sum().reset_index()\n",
    "    user_max_hora = user_max_hor.loc[user_max_hor['playtime_forever'].idxmax(), 'user_id']\n",
    "    usuario_hora = usuarios_games[usuarios_games['user_id'] == user_max_hora].groupby('year')['playtime_forever'].sum().reset_index()\n",
    "    lista_resultados = []\n",
    "    for index, row in usuario_hora.iterrows():\n",
    "        if row['playtime_forever'] == 0.0:\n",
    "            continue\n",
    "            \n",
    "        diccionario = {\n",
    "            'Año':int(row['year']),\n",
    "            'Horas': int(row['playtime_forever'])\n",
    "        }\n",
    "        lista_resultados.append(diccionario)\n",
    "        \n",
    "    dic = {'Usuario ':user_max_hora,'Horas Jugadas':lista_resultados}\n",
    "        \n",
    "    return dic\n",
    "    "
   ]
  },
  {
   "cell_type": "code",
   "execution_count": null,
   "metadata": {},
   "outputs": [],
   "source": [
    "UserForGenre('action')"
   ]
  },
  {
   "cell_type": "code",
   "execution_count": null,
   "metadata": {},
   "outputs": [],
   "source": [
    "user_review"
   ]
  },
  {
   "cell_type": "code",
   "execution_count": null,
   "metadata": {},
   "outputs": [],
   "source": [
    "def best_developer_year_func(año:str):\n",
    "    func_4 = pd.merge(user_review,steam_games,left_on='item_id',right_on='id',how='inner')\n",
    "    func_4 = func_4[func_4['Year'] == año]\n",
    "    mejores_dev = func_4.groupby('developer')['recommend'].sum().reset_index().sort_values(by='recommend',ascending=False)\n",
    "    if mejores_dev.empty:\n",
    "        return 'No se enocntraron reviews para items que hayan salido ese año'\n",
    "    else:\n",
    "        puesto1 = mejores_dev.iloc[0][0]\n",
    "        puesto2 = mejores_dev.iloc[1][0]\n",
    "        puesto3 = mejores_dev.iloc[2][0]\n",
    "        puestos = {\"Puesto 1\": puesto1, \"Puesto 2\": puesto2, \"Puesto 3\": puesto3}\n",
    "        return puestos"
   ]
  },
  {
   "cell_type": "code",
   "execution_count": null,
   "metadata": {},
   "outputs": [],
   "source": [
    "best_developer_year_func(2017)"
   ]
  },
  {
   "cell_type": "code",
   "execution_count": null,
   "metadata": {},
   "outputs": [],
   "source": [
    "user_review['posted'].iloc[0].split(',')[-1].strip(' .')"
   ]
  },
  {
   "cell_type": "code",
   "execution_count": null,
   "metadata": {},
   "outputs": [],
   "source": [
    "def developer_rec_func(desarrolladora:str):\n",
    "    func_5 = pd.merge(user_review,steam_games,left_on='item_id',right_on='id',how='inner')\n",
    "    func_5 = func_5[func_5['developer'].str.lower() == desarrolladora.lower()]\n",
    "    if func_5.empty:\n",
    "        return 'No se enocntraron reviews para items que hayan salido ese año'\n",
    "    else:\n",
    "        true_value = func_5[func_5['recommend']==True]['recommend'].count()\n",
    "        false_value = func_5[func_5['recommend']==False]['recommend'].count()\n",
    "        return {desarrolladora:[f'Nevative = {false_value}',f'Positive = {true_value}']}"
   ]
  },
  {
   "cell_type": "code",
   "execution_count": null,
   "metadata": {},
   "outputs": [],
   "source": [
    "developer_rec_func('Tripwire Interactive')"
   ]
  },
  {
   "cell_type": "code",
   "execution_count": null,
   "metadata": {},
   "outputs": [],
   "source": [
    "steam_games"
   ]
  },
  {
   "cell_type": "code",
   "execution_count": null,
   "metadata": {},
   "outputs": [],
   "source": [
    "steam_games = pd.read_csv('./datasets/steam_games.csv')\n",
    "    \n",
    "\n",
    "steam_games.dropna(subset=['Year'],inplace=True)\n",
    "steam_games['Year'] = steam_games['Year'].astype(int)"
   ]
  },
  {
   "cell_type": "code",
   "execution_count": null,
   "metadata": {},
   "outputs": [],
   "source": [
    "developer_func('Poolians.com')"
   ]
  },
  {
   "cell_type": "code",
   "execution_count": null,
   "metadata": {},
   "outputs": [],
   "source": [
    "steam_games['developer'].values"
   ]
  }
 ],
 "metadata": {
  "kernelspec": {
   "display_name": "steam-env",
   "language": "python",
   "name": "python3"
  },
  "language_info": {
   "codemirror_mode": {
    "name": "ipython",
    "version": 3
   },
   "file_extension": ".py",
   "mimetype": "text/x-python",
   "name": "python",
   "nbconvert_exporter": "python",
   "pygments_lexer": "ipython3",
   "version": "3.8.10"
  }
 },
 "nbformat": 4,
 "nbformat_minor": 2
}
