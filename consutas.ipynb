{
 "cells": [
  {
   "cell_type": "code",
   "execution_count": 30,
   "metadata": {},
   "outputs": [],
   "source": [
    "import pandas as pd\n",
    "from datetime import datetime\n",
    "\n",
    "import gzip\n"
   ]
  },
  {
   "cell_type": "code",
   "execution_count": 35,
   "metadata": {},
   "outputs": [],
   "source": [
    "with gzip.open('datasets/user_items_proc.csv.gz', 'rb') as f:\n",
    "    user_items_proc = pd.read_csv(f, encoding='utf-8')\n",
    "    \n",
    "with gzip.open('datasets/users_items.csv.gz', 'rb') as f:\n",
    "    users_items = pd.read_csv(f, encoding='utf-8')\n",
    "    \n",
    "steam_games = pd.read_csv('./datasets/steam_games.csv', parse_dates=['release_date'])\n",
    "user_review = pd.read_csv('./datasets/user_reviews.csv')"
   ]
  },
  {
   "cell_type": "code",
   "execution_count": 36,
   "metadata": {},
   "outputs": [],
   "source": [
    "steam_games = pd.read_csv('./datasets/steam_games.csv', parse_dates=['release_date'])\n",
    "user_review = pd.read_csv('./datasets/user_reviews.csv')\n",
    "#users_items_proc = pd.read_csv('./datasets/users_item_proc.csv')\n",
    "#users_items = pd.read_csv('./datasets/users_items.csv')\n",
    "\n",
    "#steam_games['release_date'] = pd.to_datetime(steam_games['release_date'], errors='coerce')"
   ]
  },
  {
   "cell_type": "code",
   "execution_count": 24,
   "metadata": {},
   "outputs": [],
   "source": [
    "def developer(desarrollador:str):\n",
    "    if desarrollador not in steam_games['developer'].values:\n",
    "        return \"No se ha encontrado ese desarrollador\"  # Devuelve el mensaje si no se encuentra en el DataFrame\n",
    "    \n",
    "    items_por_año = steam_games[steam_games['developer'].str.lower() == desarrollador.lower()].groupby('year')['id'].count().reset_index()\n",
    "    items_por_año['Year'] = items_por_año['Year'].astype(int)\n",
    "    \n",
    "    # Contar juegos gratuitos (Free to Play) cuando 'price' es 0\n",
    "    items_por_año_free = steam_games[(steam_games['developer'] == desarrollador) & (steam_games['price'] == '0')].groupby('Year')['id'].count().reset_index()\n",
    "    items_por_año_free.rename(columns={'id': 'Free to Play'}, inplace=True)\n",
    "    \n",
    "    # Uno las tablas de items_por_año e items_por_año_free\n",
    "    merged_data = pd.merge(items_por_año, items_por_año_free, on='Year', how='left')\n",
    "    \n",
    "    # Calculo el contenido gratis por año\n",
    "    contenido_free = round(merged_data['Free to Play'] / merged_data['id'] * 100, 0)\n",
    "    \n",
    "    # Crear el DataFrame final\n",
    "    resultado = {\n",
    "        'Año': merged_data['year'].iloc[0],\n",
    "        'Cantidad de Items': merged_data['id'].iloc[0],\n",
    "        'Contenido Free': contenido_free.fillna(0).astype(str).iloc[0] + '%'  # Llenar NaN con 0 para evitar problemas\n",
    "    }\n",
    "    \n",
    "    return resultado\n"
   ]
  },
  {
   "cell_type": "code",
   "execution_count": 28,
   "metadata": {},
   "outputs": [],
   "source": [
    "def userdata(User_id:str):\n",
    "    usuario = users_items.loc[users_items['user_id'].str.lower() == User_id.lower()]['items'] #---> user\n",
    "    if not usuario.empty:\n",
    "        usuario = usuario.iloc[0]\n",
    "    else:\n",
    "        return \"No se ha encontrado ese Usuario\"  # Devuelve el mensaje si no se encuentra en el DataFrame\n",
    "    data = ast.literal_eval(usuario)\n",
    "    result = pd.DataFrame(data)\n",
    "    result.dropna(inplace=True)\n",
    "    result['item_id'] = result['item_id'].astype(int)\n",
    "    \n",
    "    join = pd.merge(user_review,steam_games[['id','price']],left_on='item_id',right_on='id',how='left')\n",
    "    usuario_gasto_recomendacion = join.groupby('user_id').agg({\n",
    "                        'recommend':['count','sum'],\n",
    "                        }).reset_index()\n",
    "    usuario_gasto_recomendacion.columns = ['user_id','tot_recommend','true_recommend']\n",
    "    usuario = usuario_gasto_recomendacion[usuario_gasto_recomendacion['user_id'] == User_id]\n",
    "    \n",
    "    join2 = pd.merge(result[['item_name']],steam_games[['app_name','price']],left_on='item_name',right_on='app_name',how='left')\n",
    "    \n",
    "    return {\n",
    "        'Usuario X':User_id,\n",
    "        'Dinero gastado':f\"{join2['price'].sum()} USD\",\n",
    "        '% Recomendación Positiva':f\"{(usuario['true_recommend'].iloc[0] / usuario['tot_recommend'].iloc[0] * 100)}%\",\n",
    "        'cantidad de items':join2.shape[0]\n",
    "    }\n"
   ]
  },
  {
   "cell_type": "code",
   "execution_count": 29,
   "metadata": {},
   "outputs": [
    {
     "data": {
      "text/plain": [
       "{'Usuario X': 'shinomegami',\n",
       " 'Dinero gastado': '9206.130000000001 USD',\n",
       " '% Recomendación Positiva': '100.0%',\n",
       " 'cantidad de items': 1578}"
      ]
     },
     "execution_count": 29,
     "metadata": {},
     "output_type": "execute_result"
    }
   ],
   "source": [
    "userdata('shinomegami')"
   ]
  },
  {
   "cell_type": "code",
   "execution_count": 22,
   "metadata": {},
   "outputs": [],
   "source": [
    "def UserForGenre(genero:str):\n",
    "    genero = genero.lower()\n",
    "    steam_games_cop = steam_games\n",
    "    steam_games_cop.columns = steam_games.columns.str.lower()\n",
    "    generos = steam_games.drop(columns=['app_name','release_date','specs','price','id','developer','year']).columns\n",
    "    if genero not in generos:\n",
    "        return \"No existe ese género\"\n",
    "    # FALTA ARREGLAR QUE EL GENERO PUEDA SER INGRESADO CON MAYUSCULAS O MINUSCULAS    \n",
    "    usuarios_games = pd.merge(users_items_proc,steam_games,left_on='item_name',right_on='app_name',how='inner')\n",
    "    usuarios_games = usuarios_games[usuarios_games[genero]==1]\n",
    "    user_max_hor = usuarios_games.groupby(['user_id'])['playtime_forever'].sum().reset_index()\n",
    "    user_max_hora = user_max_hor.loc[user_max_hor['playtime_forever'].idxmax(), 'user_id']\n",
    "    usuario_hora = usuarios_games[usuarios_games['user_id'] == user_max_hora].groupby('year')['playtime_forever'].sum().reset_index()\n",
    "    lista_resultados = []\n",
    "    for index, row in usuario_hora.iterrows():\n",
    "        if row['playtime_forever'] == 0.0:\n",
    "            continue\n",
    "            \n",
    "        diccionario = {\n",
    "            'Año':int(row['year']),\n",
    "            'Horas': int(row['playtime_forever'])\n",
    "        }\n",
    "        lista_resultados.append(diccionario)\n",
    "        \n",
    "    dic = {'Usuario ':user_max_hora,'Horas Jugadas':lista_resultados}\n",
    "        \n",
    "    return dic\n",
    "    "
   ]
  },
  {
   "cell_type": "code",
   "execution_count": 23,
   "metadata": {},
   "outputs": [
    {
     "data": {
      "text/plain": [
       "{'Usuario ': 'shinomegami',\n",
       " 'Horas Jugadas': [{'Año': 1988, 'Horas': 136},\n",
       "  {'Año': 1993, 'Horas': 22001},\n",
       "  {'Año': 1995, 'Horas': 2},\n",
       "  {'Año': 1996, 'Horas': 1161},\n",
       "  {'Año': 1997, 'Horas': 99},\n",
       "  {'Año': 1998, 'Horas': 3716},\n",
       "  {'Año': 1999, 'Horas': 317},\n",
       "  {'Año': 2000, 'Horas': 10775},\n",
       "  {'Año': 2001, 'Horas': 2431},\n",
       "  {'Año': 2002, 'Horas': 2434},\n",
       "  {'Año': 2003, 'Horas': 532817},\n",
       "  {'Año': 2004, 'Horas': 120},\n",
       "  {'Año': 2005, 'Horas': 343},\n",
       "  {'Año': 2006, 'Horas': 3485},\n",
       "  {'Año': 2007, 'Horas': 68354},\n",
       "  {'Año': 2008, 'Horas': 1485},\n",
       "  {'Año': 2009, 'Horas': 209854},\n",
       "  {'Año': 2010, 'Horas': 11418},\n",
       "  {'Año': 2011, 'Horas': 92057},\n",
       "  {'Año': 2012, 'Horas': 30400},\n",
       "  {'Año': 2013, 'Horas': 156301},\n",
       "  {'Año': 2014, 'Horas': 109051},\n",
       "  {'Año': 2015, 'Horas': 147323},\n",
       "  {'Año': 2016, 'Horas': 42744},\n",
       "  {'Año': 2017, 'Horas': 135}]}"
      ]
     },
     "execution_count": 23,
     "metadata": {},
     "output_type": "execute_result"
    }
   ],
   "source": [
    "UserForGenre('action')"
   ]
  }
 ],
 "metadata": {
  "kernelspec": {
   "display_name": "steam-env",
   "language": "python",
   "name": "python3"
  },
  "language_info": {
   "codemirror_mode": {
    "name": "ipython",
    "version": 3
   },
   "file_extension": ".py",
   "mimetype": "text/x-python",
   "name": "python",
   "nbconvert_exporter": "python",
   "pygments_lexer": "ipython3",
   "version": "3.11.6"
  }
 },
 "nbformat": 4,
 "nbformat_minor": 2
}
