{
 "cells": [
  {
   "cell_type": "code",
   "execution_count": 1,
   "metadata": {},
   "outputs": [],
   "source": [
    "import pandas as pd\n",
    "from datetime import datetime\n",
    "import ast\n",
    "import gzip\n"
   ]
  },
  {
   "cell_type": "code",
   "execution_count": 2,
   "metadata": {},
   "outputs": [],
   "source": [
    "with gzip.open('datasets/user_items_proc.csv.gz', 'rb') as f:\n",
    "    user_items_proc = pd.read_csv(f, encoding='utf-8')\n",
    "    \n",
    "steam_games = pd.read_csv('./datasets/steam_games.csv', parse_dates=['release_date'])\n",
    "user_review = pd.read_csv('./datasets/user_reviews.csv')"
   ]
  },
  {
   "cell_type": "code",
   "execution_count": null,
   "metadata": {},
   "outputs": [],
   "source": [
    "\n",
    "\n",
    "diner_user = pd.merge(steam_games[['app_name','price']],user_items_proc[['user_id','items_count','item_name']],left_on='app_name',right_on='item_name',how='inner')\n",
    "users_items = diner_user.groupby('user_id').agg(\n",
    "    {\n",
    "       'items_count':'first',\n",
    "        'price':'sum'\n",
    "    }\n",
    ").reset_index()\n",
    "\n",
    "recomendaciones_true = user_review.groupby('user_id')['recommend'].sum()\n",
    "total_registros_por_usuario = user_review.groupby('user_id')['recommend'].count()\n",
    "porcentaje_recomendaciones_true = (recomendaciones_true / total_registros_por_usuario) * 100\n",
    "users_true_reviews = pd.DataFrame({\n",
    "    'user_id': porcentaje_recomendaciones_true.index,\n",
    "    'porcentaje_recomendaciones_true': porcentaje_recomendaciones_true.values\n",
    "})\n",
    "items_reviews_users = pd.merge(users_items,users_true_reviews,on='user_id',how='inner')\n",
    "items_reviews_users.to_csv('./datasets/items_reviews_users.csv',index=False)"
   ]
  },
  {
   "cell_type": "code",
   "execution_count": 3,
   "metadata": {},
   "outputs": [],
   "source": [
    "generos = steam_games.drop(columns=['app_name','release_date','specs','price','id','developer','Year','Accounting'])\n",
    "gener_user = pd.merge(user_items_proc[['item_name','playtime_forever','user_id']],steam_games,left_on='item_name',right_on='app_name',how='inner')\n",
    "resultados_por_genero = []\n",
    "for genero in generos.columns:\n",
    "    genero_data = gener_user[gener_user[genero] == 1]\n",
    "    \n",
    "    if not genero_data.empty:\n",
    "        user_max = genero_data.groupby('user_id')['playtime_forever'].sum().idxmax()\n",
    "        result_df = genero_data[genero_data['user_id'] == user_max].groupby('Year')['playtime_forever'].sum().reset_index()\n",
    "        formatted_result = [{'Año': record['Year'], 'Horas': record['playtime_forever']} for _, record in result_df.iterrows()]\n",
    "        resultados_por_genero.append({'Género': genero, 'Usuario': user_max, 'Año_Horas': formatted_result})\n",
    "    else:\n",
    "        resultados_por_genero.append({'Género': genero, 'Usuario': None, 'Año_Horas': []})\n",
    "\n",
    "df_resultados = pd.DataFrame(resultados_por_genero)\n",
    "\n",
    "df_resultados.dropna(inplace=True)\n",
    "df_resultados.to_csv('./datasets/max_por_gen.csv',index=False)"
   ]
  },
  {
   "cell_type": "code",
   "execution_count": 25,
   "metadata": {},
   "outputs": [],
   "source": [
    "def best_developer_year_func(año:str):\n",
    "    func_4 = pd.merge(user_review,steam_games,left_on='item_id',right_on='id',how='inner')\n",
    "    func_4 = func_4[func_4['Year'] == float(año)]\n",
    "    mejores_dev = func_4.groupby('developer')['recommend'].sum().reset_index().sort_values(by='recommend',ascending=False)\n",
    "    if mejores_dev.empty:\n",
    "        return 'No se enocntraron reviews para items que hayan salido ese año'\n",
    "    else:\n",
    "        puesto1 = mejores_dev.iloc[0][0]\n",
    "        puesto2 = mejores_dev.iloc[1][0]\n",
    "        puesto3 = mejores_dev.iloc[2][0]\n",
    "        puestos = {\"Puesto 1\": puesto1, \"Puesto 2\": puesto2, \"Puesto 3\": puesto3}\n",
    "        return puestos"
   ]
  },
  {
   "cell_type": "code",
   "execution_count": 26,
   "metadata": {},
   "outputs": [
    {
     "data": {
      "text/plain": [
       "{'Puesto 1': 'Smartly Dressed Games',\n",
       " 'Puesto 2': 'Freejam',\n",
       " 'Puesto 3': 'Studio Wildcard,Instinct Games,Efecto Studios,Virtual Basement LLC'}"
      ]
     },
     "execution_count": 26,
     "metadata": {},
     "output_type": "execute_result"
    }
   ],
   "source": [
    "best_developer_year_func(2017)"
   ]
  },
  {
   "cell_type": "code",
   "execution_count": null,
   "metadata": {},
   "outputs": [],
   "source": [
    "user_review['posted'].iloc[0].split(',')[-1].strip(' .')"
   ]
  },
  {
   "cell_type": "code",
   "execution_count": 23,
   "metadata": {},
   "outputs": [],
   "source": [
    "def developer_rec_func(desarrolladora:str):\n",
    "    \n",
    "    func_5 = pd.merge(user_review,steam_games,left_on='item_id',right_on='id',how='inner')\n",
    "    func_5['developer'] = func_5['developer'].astype(str)\n",
    "    func_5['developer'] = func_5['developer'].str.lower()\n",
    "    desarrolladora = desarrolladora.lower()\n",
    "    func_5 = func_5[func_5['developer'] == desarrolladora]\n",
    "    if func_5.empty:\n",
    "        return 'No se enocntraron reviews para items perteneceintes a esa desarroladora'\n",
    "    else:\n",
    "        true_value = func_5[func_5['sentiment_analysis']==2]['sentiment_analysis'].count()\n",
    "        false_value = func_5[func_5['sentiment_analysis']==0]['sentiment_analysis'].count()\n",
    "        return {desarrolladora:[f'Negative = {int(false_value)}',f'Positive = {int(true_value)}']}"
   ]
  },
  {
   "cell_type": "code",
   "execution_count": 24,
   "metadata": {},
   "outputs": [
    {
     "data": {
      "text/plain": [
       "{'tripwire interactive': ['Negative = 109', 'Positive = 319']}"
      ]
     },
     "execution_count": 24,
     "metadata": {},
     "output_type": "execute_result"
    }
   ],
   "source": [
    "developer_rec_func('Tripwire Interactive')"
   ]
  },
  {
   "cell_type": "code",
   "execution_count": 10,
   "metadata": {},
   "outputs": [],
   "source": [
    "func_5 = pd.merge(user_review,steam_games,left_on='item_id',right_on='id',how='inner')\n",
    "true_value = func_5[func_5['sentiment_analysis']==2]['sentiment_analysis'].count()\n",
    "false_value = func_5[func_5['sentiment_analysis']==0]['sentiment_analysis'].count()"
   ]
  },
  {
   "cell_type": "code",
   "execution_count": 18,
   "metadata": {},
   "outputs": [],
   "source": []
  },
  {
   "cell_type": "code",
   "execution_count": 20,
   "metadata": {},
   "outputs": [
    {
     "name": "stdout",
     "output_type": "stream",
     "text": [
      "<class 'pandas.core.frame.DataFrame'>\n",
      "RangeIndex: 50154 entries, 0 to 50153\n",
      "Data columns (total 34 columns):\n",
      " #   Column                     Non-Null Count  Dtype         \n",
      "---  ------                     --------------  -----         \n",
      " 0   user_id                    50154 non-null  object        \n",
      " 1   posted                     50154 non-null  object        \n",
      " 2   item_id                    50154 non-null  int64         \n",
      " 3   recommend                  50154 non-null  bool          \n",
      " 4   sentiment_analysis         50154 non-null  int64         \n",
      " 5   app_name                   50154 non-null  object        \n",
      " 6   release_date               49929 non-null  datetime64[ns]\n",
      " 7   specs                      50154 non-null  object        \n",
      " 8   price                      50154 non-null  float64       \n",
      " 9   id                         50154 non-null  int64         \n",
      " 10  developer                  50154 non-null  object        \n",
      " 11  Accounting                 50154 non-null  int64         \n",
      " 12  Action                     50154 non-null  int64         \n",
      " 13  Adventure                  50154 non-null  int64         \n",
      " 14  Animation &amp; Modeling   50154 non-null  int64         \n",
      " 15  Audio Production           50154 non-null  int64         \n",
      " 16  Casual                     50154 non-null  int64         \n",
      " 17  Design &amp; Illustration  50154 non-null  int64         \n",
      " 18  Early Access               50154 non-null  int64         \n",
      " 19  Education                  50154 non-null  int64         \n",
      " 20  Free to Play               50154 non-null  int64         \n",
      " 21  Indie                      50154 non-null  int64         \n",
      " 22  Massively Multiplayer      50154 non-null  int64         \n",
      " 23  Photo Editing              50154 non-null  int64         \n",
      " 24  RPG                        50154 non-null  int64         \n",
      " 25  Racing                     50154 non-null  int64         \n",
      " 26  Simulation                 50154 non-null  int64         \n",
      " 27  Software Training          50154 non-null  int64         \n",
      " 28  Sports                     50154 non-null  int64         \n",
      " 29  Strategy                   50154 non-null  int64         \n",
      " 30  Utilities                  50154 non-null  int64         \n",
      " 31  Video Production           50154 non-null  int64         \n",
      " 32  Web Publishing             50154 non-null  int64         \n",
      " 33  Year                       49929 non-null  float64       \n",
      "dtypes: bool(1), datetime64[ns](1), float64(2), int64(25), object(5)\n",
      "memory usage: 12.7+ MB\n"
     ]
    }
   ],
   "source": [
    "func_5.info()"
   ]
  }
 ],
 "metadata": {
  "kernelspec": {
   "display_name": "steam-env",
   "language": "python",
   "name": "python3"
  },
  "language_info": {
   "codemirror_mode": {
    "name": "ipython",
    "version": 3
   },
   "file_extension": ".py",
   "mimetype": "text/x-python",
   "name": "python",
   "nbconvert_exporter": "python",
   "pygments_lexer": "ipython3",
   "version": "3.8.10"
  }
 },
 "nbformat": 4,
 "nbformat_minor": 2
}
