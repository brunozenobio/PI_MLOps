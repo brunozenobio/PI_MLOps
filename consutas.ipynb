{
 "cells": [
  {
   "cell_type": "code",
   "execution_count": 1,
   "metadata": {},
   "outputs": [],
   "source": [
    "import pandas as pd\n",
    "from datetime import datetime\n",
    "import ast\n",
    "import gzip\n"
   ]
  },
  {
   "cell_type": "code",
   "execution_count": 2,
   "metadata": {},
   "outputs": [],
   "source": [
    "with gzip.open('datasets/user_items_proc.csv.gz', 'rb') as f:\n",
    "    user_items_proc = pd.read_csv(f, encoding='utf-8')\n",
    "    \n",
    "steam_games = pd.read_csv('./datasets/steam_games.csv', parse_dates=['release_date'])\n",
    "user_review = pd.read_csv('./datasets/user_reviews.csv')"
   ]
  },
  {
   "cell_type": "code",
   "execution_count": null,
   "metadata": {},
   "outputs": [],
   "source": [
    "\n",
    "\n",
    "diner_user = pd.merge(steam_games[['app_name','price']],user_items_proc[['user_id','items_count','item_name']],left_on='app_name',right_on='item_name',how='inner')\n",
    "users_items = diner_user.groupby('user_id').agg(\n",
    "    {\n",
    "       'items_count':'first',\n",
    "        'price':'sum'\n",
    "    }\n",
    ").reset_index()\n",
    "\n",
    "recomendaciones_true = user_review.groupby('user_id')['recommend'].sum()\n",
    "total_registros_por_usuario = user_review.groupby('user_id')['recommend'].count()\n",
    "porcentaje_recomendaciones_true = (recomendaciones_true / total_registros_por_usuario) * 100\n",
    "users_true_reviews = pd.DataFrame({\n",
    "    'user_id': porcentaje_recomendaciones_true.index,\n",
    "    'porcentaje_recomendaciones_true': porcentaje_recomendaciones_true.values\n",
    "})\n",
    "items_reviews_users = pd.merge(users_items,users_true_reviews,on='user_id',how='inner')\n",
    "items_reviews_users.to_csv('./datasets/items_reviews_users.csv',index=False)"
   ]
  },
  {
   "cell_type": "code",
   "execution_count": 3,
   "metadata": {},
   "outputs": [],
   "source": [
    "generos = steam_games.drop(columns=['app_name','release_date','specs','price','id','developer','Year','Accounting'])\n",
    "gener_user = pd.merge(user_items_proc[['item_name','playtime_forever','user_id']],steam_games,left_on='item_name',right_on='app_name',how='inner')\n",
    "resultados_por_genero = []\n",
    "for genero in generos.columns:\n",
    "    genero_data = gener_user[gener_user[genero] == 1]\n",
    "    \n",
    "    if not genero_data.empty:\n",
    "        user_max = genero_data.groupby('user_id')['playtime_forever'].sum().idxmax()\n",
    "        result_df = genero_data[genero_data['user_id'] == user_max].groupby('Year')['playtime_forever'].sum().reset_index()\n",
    "        formatted_result = [{'Año': record['Year'], 'Horas': record['playtime_forever']} for _, record in result_df.iterrows()]\n",
    "        resultados_por_genero.append({'Género': genero, 'Usuario': user_max, 'Año_Horas': formatted_result})\n",
    "    else:\n",
    "        resultados_por_genero.append({'Género': genero, 'Usuario': None, 'Año_Horas': []})\n",
    "\n",
    "df_resultados = pd.DataFrame(resultados_por_genero)\n",
    "\n",
    "df_resultados.dropna(inplace=True)"
   ]
  },
  {
   "cell_type": "code",
   "execution_count": 5,
   "metadata": {},
   "outputs": [],
   "source": [
    "df_resultados.to_csv('./datasets/max_por_gen.csv',index=False)"
   ]
  },
  {
   "cell_type": "code",
   "execution_count": 25,
   "metadata": {},
   "outputs": [],
   "source": [
    "def best_developer_year_func(año:str):\n",
    "    func_4 = pd.merge(user_review,steam_games,left_on='item_id',right_on='id',how='inner')\n",
    "    func_4 = func_4[func_4['Year'] == float(año)]\n",
    "    mejores_dev = func_4.groupby('developer')['recommend'].sum().reset_index().sort_values(by='recommend',ascending=False)\n",
    "    if mejores_dev.empty:\n",
    "        return 'No se enocntraron reviews para items que hayan salido ese año'\n",
    "    else:\n",
    "        puesto1 = mejores_dev.iloc[0][0]\n",
    "        puesto2 = mejores_dev.iloc[1][0]\n",
    "        puesto3 = mejores_dev.iloc[2][0]\n",
    "        puestos = {\"Puesto 1\": puesto1, \"Puesto 2\": puesto2, \"Puesto 3\": puesto3}\n",
    "        return puestos"
   ]
  },
  {
   "cell_type": "code",
   "execution_count": 26,
   "metadata": {},
   "outputs": [
    {
     "data": {
      "text/plain": [
       "{'Puesto 1': 'Smartly Dressed Games',\n",
       " 'Puesto 2': 'Freejam',\n",
       " 'Puesto 3': 'Studio Wildcard,Instinct Games,Efecto Studios,Virtual Basement LLC'}"
      ]
     },
     "execution_count": 26,
     "metadata": {},
     "output_type": "execute_result"
    }
   ],
   "source": [
    "best_developer_year_func(2017)"
   ]
  },
  {
   "cell_type": "code",
   "execution_count": null,
   "metadata": {},
   "outputs": [],
   "source": [
    "user_review['posted'].iloc[0].split(',')[-1].strip(' .')"
   ]
  },
  {
   "cell_type": "code",
   "execution_count": 5,
   "metadata": {},
   "outputs": [],
   "source": [
    "def developer_rec_func(desarrolladora:str):\n",
    "    \n",
    "    func_5 = pd.merge(user_review,steam_games,left_on='item_id',right_on='id',how='inner')\n",
    "    func_5['developer'] = func_5['developer'].str.lower()\n",
    "    desarrolladora = desarrolladora.lower()\n",
    "    func_5 = func_5[func_5['developer'] == desarrolladora]\n",
    "    if func_5.empty:\n",
    "        return 'No se enocntraron reviews para items que hayan salido ese año'\n",
    "    else:\n",
    "        true_value = func_5[func_5['sentiment_analysis']==2]['sentiment_analysis'].count()\n",
    "        false_value = func_5[func_5['sentiment_analysis']==0]['sentiment_analysis'].count()\n",
    "        return {desarrolladora:[f'Nevative = {false_value}',f'Positive = {true_value}']}"
   ]
  },
  {
   "cell_type": "code",
   "execution_count": 6,
   "metadata": {},
   "outputs": [
    {
     "data": {
      "text/plain": [
       "{'tripwire interactive': ['Nevative = 109', 'Positive = 319']}"
      ]
     },
     "execution_count": 6,
     "metadata": {},
     "output_type": "execute_result"
    }
   ],
   "source": [
    "developer_rec_func('Tripwire Interactive')"
   ]
  },
  {
   "cell_type": "code",
   "execution_count": null,
   "metadata": {},
   "outputs": [],
   "source": [
    "steam_games"
   ]
  },
  {
   "cell_type": "code",
   "execution_count": 55,
   "metadata": {},
   "outputs": [],
   "source": [
    "steam_games = pd.read_csv('./datasets/steam_games.csv')\n",
    "    \n",
    "\n",
    "steam_games.dropna(subset=['Year'],inplace=True)\n",
    "steam_games['Year'] = steam_games['Year'].astype(int)"
   ]
  },
  {
   "cell_type": "code",
   "execution_count": 56,
   "metadata": {},
   "outputs": [
    {
     "data": {
      "text/plain": [
       "array(['Kotoshiro', 'Secret Level SRL', 'Poolians.com', ..., 'Sacada',\n",
       "       'Laush Dmitriy Sergeevich', 'xropi,stev3ns'], dtype=object)"
      ]
     },
     "execution_count": 56,
     "metadata": {},
     "output_type": "execute_result"
    }
   ],
   "source": [
    "steam_games['developer'].values"
   ]
  },
  {
   "cell_type": "code",
   "execution_count": 64,
   "metadata": {},
   "outputs": [
    {
     "data": {
      "text/html": [
       "<div>\n",
       "<style scoped>\n",
       "    .dataframe tbody tr th:only-of-type {\n",
       "        vertical-align: middle;\n",
       "    }\n",
       "\n",
       "    .dataframe tbody tr th {\n",
       "        vertical-align: top;\n",
       "    }\n",
       "\n",
       "    .dataframe thead th {\n",
       "        text-align: right;\n",
       "    }\n",
       "</style>\n",
       "<table border=\"1\" class=\"dataframe\">\n",
       "  <thead>\n",
       "    <tr style=\"text-align: right;\">\n",
       "      <th></th>\n",
       "      <th>Year</th>\n",
       "      <th>id</th>\n",
       "    </tr>\n",
       "  </thead>\n",
       "  <tbody>\n",
       "    <tr>\n",
       "      <th>0</th>\n",
       "      <td>2018</td>\n",
       "      <td>1</td>\n",
       "    </tr>\n",
       "  </tbody>\n",
       "</table>\n",
       "</div>"
      ],
      "text/plain": [
       "   Year  id\n",
       "0  2018   1"
      ]
     },
     "execution_count": 64,
     "metadata": {},
     "output_type": "execute_result"
    }
   ],
   "source": [
    "steam_games[steam_games['developer'].str.lower() == 'Kotoshiro'.lower()].groupby('Year')['id'].count().reset_index()"
   ]
  },
  {
   "cell_type": "code",
   "execution_count": 74,
   "metadata": {},
   "outputs": [
    {
     "data": {
      "text/html": [
       "<div>\n",
       "<style scoped>\n",
       "    .dataframe tbody tr th:only-of-type {\n",
       "        vertical-align: middle;\n",
       "    }\n",
       "\n",
       "    .dataframe tbody tr th {\n",
       "        vertical-align: top;\n",
       "    }\n",
       "\n",
       "    .dataframe thead th {\n",
       "        text-align: right;\n",
       "    }\n",
       "</style>\n",
       "<table border=\"1\" class=\"dataframe\">\n",
       "  <thead>\n",
       "    <tr style=\"text-align: right;\">\n",
       "      <th></th>\n",
       "      <th>developer</th>\n",
       "      <th>Year</th>\n",
       "    </tr>\n",
       "  </thead>\n",
       "  <tbody>\n",
       "    <tr>\n",
       "      <th>0</th>\n",
       "      <td>Kotoshiro</td>\n",
       "      <td>2018</td>\n",
       "    </tr>\n",
       "    <tr>\n",
       "      <th>1</th>\n",
       "      <td>Secret Level SRL</td>\n",
       "      <td>2018</td>\n",
       "    </tr>\n",
       "    <tr>\n",
       "      <th>2</th>\n",
       "      <td>Poolians.com</td>\n",
       "      <td>2017</td>\n",
       "    </tr>\n",
       "    <tr>\n",
       "      <th>3</th>\n",
       "      <td>彼岸领域</td>\n",
       "      <td>2017</td>\n",
       "    </tr>\n",
       "    <tr>\n",
       "      <th>4</th>\n",
       "      <td>Trickjump Games Ltd</td>\n",
       "      <td>2018</td>\n",
       "    </tr>\n",
       "    <tr>\n",
       "      <th>...</th>\n",
       "      <td>...</td>\n",
       "      <td>...</td>\n",
       "    </tr>\n",
       "    <tr>\n",
       "      <th>27549</th>\n",
       "      <td>Bidoniera Games</td>\n",
       "      <td>2018</td>\n",
       "    </tr>\n",
       "    <tr>\n",
       "      <th>27550</th>\n",
       "      <td>Nikita \"Ghost_RUS\"</td>\n",
       "      <td>2018</td>\n",
       "    </tr>\n",
       "    <tr>\n",
       "      <th>27551</th>\n",
       "      <td>Sacada</td>\n",
       "      <td>2018</td>\n",
       "    </tr>\n",
       "    <tr>\n",
       "      <th>27552</th>\n",
       "      <td>Laush Dmitriy Sergeevich</td>\n",
       "      <td>2018</td>\n",
       "    </tr>\n",
       "    <tr>\n",
       "      <th>27553</th>\n",
       "      <td>xropi,stev3ns</td>\n",
       "      <td>2017</td>\n",
       "    </tr>\n",
       "  </tbody>\n",
       "</table>\n",
       "<p>27494 rows × 2 columns</p>\n",
       "</div>"
      ],
      "text/plain": [
       "                      developer  Year\n",
       "0                     Kotoshiro  2018\n",
       "1              Secret Level SRL  2018\n",
       "2                  Poolians.com  2017\n",
       "3                          彼岸领域  2017\n",
       "4           Trickjump Games Ltd  2018\n",
       "...                         ...   ...\n",
       "27549           Bidoniera Games  2018\n",
       "27550        Nikita \"Ghost_RUS\"  2018\n",
       "27551                    Sacada  2018\n",
       "27552  Laush Dmitriy Sergeevich  2018\n",
       "27553             xropi,stev3ns  2017\n",
       "\n",
       "[27494 rows x 2 columns]"
      ]
     },
     "execution_count": 74,
     "metadata": {},
     "output_type": "execute_result"
    }
   ],
   "source": [
    "steam_games[['developer','Year']]\n"
   ]
  },
  {
   "cell_type": "code",
   "execution_count": 70,
   "metadata": {},
   "outputs": [],
   "source": [
    "def developer_func(desarrollador:str):\n",
    "    \n",
    "    steam_games = pd.read_csv('./datasets/steam_games.csv', parse_dates=['release_date'])\n",
    "    \n",
    "\n",
    "    steam_games.dropna(subset=['Year'],inplace=True)\n",
    "    steam_games['Year'] = steam_games['Year'].astype(int)\n",
    "    steam_games['developer'] = steam_games['developer'].str.strip().str.lower()\n",
    "    desarrollador = desarrollador.strip().lower()   \n",
    "    \n",
    "    if desarrollador not in steam_games['developer'].values:\n",
    "        return \"No se ha encontrado ese desarrollador\"  # Devuelve el mensaje si no se encuentra en el DataFrame\n",
    "    \n",
    "    items_por_año = steam_games[steam_games['developer'].str.lower() == desarrollador.lower()].groupby('Year')['id'].count().reset_index()\n",
    "    #items_por_año['Year'] = items_por_año['Year'].astype(int)\n",
    "    \n",
    "    # Cuento juegos gratuitos (Free to Play) cuando 'price' es 0\n",
    "    items_por_año_free = steam_games[(steam_games['developer'].str.lower() == desarrollador) & (steam_games['price'] == 0.0)].groupby('Year')['id'].count().reset_index()\n",
    "    items_por_año_free.rename(columns={'id': 'Free to Play'}, inplace=True)\n",
    "    \n",
    "    # Uno las tablas de items_por_año e items_por_año_free\n",
    "    merged_data = pd.merge(items_por_año, items_por_año_free, on='Year', how='left')\n",
    "    \n",
    "    # Calculo el contenido gratis por año\n",
    "    contenido_free = round(merged_data['Free to Play'] / merged_data['id'] * 100, 2)\n",
    "    \n",
    "    # Creo el DataFrame final\n",
    "    resultado = {\n",
    "        'Año': merged_data['Year'].tolist(),\n",
    "        'Cantidad de Items': merged_data['id'].tolist(),\n",
    "        'Contenido Free': f'{contenido_free.fillna(0).tolist()} %'  # Llenar NaN con 0 para evitar problemas\n",
    "    }\n",
    "    \n",
    "    return resultado"
   ]
  },
  {
   "cell_type": "code",
   "execution_count": 77,
   "metadata": {},
   "outputs": [
    {
     "data": {
      "text/plain": [
       "{'Año': [2009, 2010, 2011, 2012, 2013, 2014, 2015, 2016, 2017],\n",
       " 'Cantidad de Items': [22, 4, 4, 52, 39, 37, 50, 21, 24],\n",
       " 'Contenido Free': '[0.0, 0.0, 0.0, 0.0, 0.0, 0.0, 0.0, 0.0, 4.17] %'}"
      ]
     },
     "execution_count": 77,
     "metadata": {},
     "output_type": "execute_result"
    }
   ],
   "source": [
    "developer_func('Dovetail Games')"
   ]
  }
 ],
 "metadata": {
  "kernelspec": {
   "display_name": "steam-env",
   "language": "python",
   "name": "python3"
  },
  "language_info": {
   "codemirror_mode": {
    "name": "ipython",
    "version": 3
   },
   "file_extension": ".py",
   "mimetype": "text/x-python",
   "name": "python",
   "nbconvert_exporter": "python",
   "pygments_lexer": "ipython3",
   "version": "3.8.10"
  }
 },
 "nbformat": 4,
 "nbformat_minor": 2
}
