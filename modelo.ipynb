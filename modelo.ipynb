{
 "cells": [
  {
   "cell_type": "code",
   "execution_count": null,
   "metadata": {},
   "outputs": [],
   "source": [
    "import pandas as pd\n",
    "import numpy as np\n",
    "import matplotlib.pyplot as plt\n",
    "import seaborn as sns\n",
    "import gzip\n",
    "from sklearn.metrics.pairwise import cosine_similarity\n",
    "from sklearn.model_selection import train_test_split\n",
    "from sklearn.neighbors import NearestNeighbors\n",
    "import pickle\n",
    "from sklearn.decomposition import NMF\n",
    "from surprise import SVD"
   ]
  },
  {
   "cell_type": "code",
   "execution_count": 61,
   "metadata": {},
   "outputs": [],
   "source": [
    "df = pd.read_csv('./datasets/user_reviews.csv')"
   ]
  },
  {
   "cell_type": "code",
   "execution_count": 62,
   "metadata": {},
   "outputs": [
    {
     "data": {
      "text/html": [
       "<div>\n",
       "<style scoped>\n",
       "    .dataframe tbody tr th:only-of-type {\n",
       "        vertical-align: middle;\n",
       "    }\n",
       "\n",
       "    .dataframe tbody tr th {\n",
       "        vertical-align: top;\n",
       "    }\n",
       "\n",
       "    .dataframe thead th {\n",
       "        text-align: right;\n",
       "    }\n",
       "</style>\n",
       "<table border=\"1\" class=\"dataframe\">\n",
       "  <thead>\n",
       "    <tr style=\"text-align: right;\">\n",
       "      <th></th>\n",
       "      <th>user_id</th>\n",
       "      <th>item_id</th>\n",
       "      <th>sentiment_analysis</th>\n",
       "    </tr>\n",
       "  </thead>\n",
       "  <tbody>\n",
       "    <tr>\n",
       "      <th>0</th>\n",
       "      <td>76561197970982479</td>\n",
       "      <td>1250</td>\n",
       "      <td>2</td>\n",
       "    </tr>\n",
       "    <tr>\n",
       "      <th>1</th>\n",
       "      <td>76561197970982479</td>\n",
       "      <td>22200</td>\n",
       "      <td>2</td>\n",
       "    </tr>\n",
       "    <tr>\n",
       "      <th>2</th>\n",
       "      <td>76561197970982479</td>\n",
       "      <td>43110</td>\n",
       "      <td>2</td>\n",
       "    </tr>\n",
       "    <tr>\n",
       "      <th>3</th>\n",
       "      <td>js41637</td>\n",
       "      <td>251610</td>\n",
       "      <td>2</td>\n",
       "    </tr>\n",
       "    <tr>\n",
       "      <th>4</th>\n",
       "      <td>js41637</td>\n",
       "      <td>227300</td>\n",
       "      <td>2</td>\n",
       "    </tr>\n",
       "    <tr>\n",
       "      <th>...</th>\n",
       "      <td>...</td>\n",
       "      <td>...</td>\n",
       "      <td>...</td>\n",
       "    </tr>\n",
       "    <tr>\n",
       "      <th>59300</th>\n",
       "      <td>76561198312638244</td>\n",
       "      <td>70</td>\n",
       "      <td>2</td>\n",
       "    </tr>\n",
       "    <tr>\n",
       "      <th>59301</th>\n",
       "      <td>76561198312638244</td>\n",
       "      <td>362890</td>\n",
       "      <td>2</td>\n",
       "    </tr>\n",
       "    <tr>\n",
       "      <th>59302</th>\n",
       "      <td>LydiaMorley</td>\n",
       "      <td>273110</td>\n",
       "      <td>2</td>\n",
       "    </tr>\n",
       "    <tr>\n",
       "      <th>59303</th>\n",
       "      <td>LydiaMorley</td>\n",
       "      <td>730</td>\n",
       "      <td>2</td>\n",
       "    </tr>\n",
       "    <tr>\n",
       "      <th>59304</th>\n",
       "      <td>LydiaMorley</td>\n",
       "      <td>440</td>\n",
       "      <td>2</td>\n",
       "    </tr>\n",
       "  </tbody>\n",
       "</table>\n",
       "<p>59305 rows × 3 columns</p>\n",
       "</div>"
      ],
      "text/plain": [
       "                 user_id  item_id  sentiment_analysis\n",
       "0      76561197970982479     1250                   2\n",
       "1      76561197970982479    22200                   2\n",
       "2      76561197970982479    43110                   2\n",
       "3                js41637   251610                   2\n",
       "4                js41637   227300                   2\n",
       "...                  ...      ...                 ...\n",
       "59300  76561198312638244       70                   2\n",
       "59301  76561198312638244   362890                   2\n",
       "59302        LydiaMorley   273110                   2\n",
       "59303        LydiaMorley      730                   2\n",
       "59304        LydiaMorley      440                   2\n",
       "\n",
       "[59305 rows x 3 columns]"
      ]
     },
     "execution_count": 62,
     "metadata": {},
     "output_type": "execute_result"
    }
   ],
   "source": [
    "df = df[['user_id','item_id','sentiment_analysis']]\n",
    "df"
   ]
  },
  {
   "cell_type": "code",
   "execution_count": null,
   "metadata": {},
   "outputs": [],
   "source": [
    "df1_by_users = df.groupby(['user_id']).count()\n",
    "df1_by_users.head()"
   ]
  },
  {
   "cell_type": "code",
   "execution_count": null,
   "metadata": {},
   "outputs": [],
   "source": [
    "\n",
    "plt.hist(df1_by_users['sentiment_analysis'], log= True)\n",
    "plt.title('Calificaciones por usuario')\n",
    "plt.show()"
   ]
  },
  {
   "cell_type": "code",
   "execution_count": null,
   "metadata": {},
   "outputs": [],
   "source": [
    "df1_by_movies = df.groupby(['item_id']).count()\n",
    "df1_by_movies.head()"
   ]
  },
  {
   "cell_type": "code",
   "execution_count": null,
   "metadata": {},
   "outputs": [],
   "source": [
    "from surprise import Dataset\n",
    "from surprise import Reader\n",
    "\n",
    "from surprise.model_selection import train_test_split\n",
    "from sklearn.preprocessing import LabelEncoder"
   ]
  },
  {
   "cell_type": "code",
   "execution_count": null,
   "metadata": {},
   "outputs": [],
   "source": [
    "\n",
    "reader = Reader()\n",
    "label_encoder = LabelEncoder()\n",
    "df['user_id_num'] = label_encoder.fit_transform(df['user_id'])\n",
    "df_mod = df[['user_id_num','item_id','sentiment_analysis']]\n",
    "data = Dataset.load_from_df(df_mod, reader)\n",
    "trainset, testset = train_test_split(data, test_size=.25)\n",
    "model = SVD()\n",
    "model.fit(trainset)\n",
    "\n",
    "predictions = model.test(testset)"
   ]
  },
  {
   "cell_type": "code",
   "execution_count": 63,
   "metadata": {},
   "outputs": [],
   "source": [
    "df['user_id_num'] = label_encoder.fit_transform(df['user_id'])\n",
    "df_mod = df[['user_id_num','item_id','sentiment_analysis']]"
   ]
  },
  {
   "cell_type": "code",
   "execution_count": 79,
   "metadata": {},
   "outputs": [
    {
     "data": {
      "text/plain": [
       "5635     76561197983875214\n",
       "48935        thekushcorner\n",
       "27657      Corvus_bellator\n",
       "1412     76561198052700471\n",
       "16282             nugyflex\n",
       "Name: user_id, dtype: object"
      ]
     },
     "execution_count": 79,
     "metadata": {},
     "output_type": "execute_result"
    }
   ],
   "source": [
    "df['user_id'].sample(5)"
   ]
  },
  {
   "cell_type": "code",
   "execution_count": 90,
   "metadata": {},
   "outputs": [],
   "source": [
    "user ='muchbanta'"
   ]
  },
  {
   "cell_type": "code",
   "execution_count": 91,
   "metadata": {},
   "outputs": [],
   "source": [
    "user1 = df[df['user_id'] == user]['user_id_num'].iloc[0]\n"
   ]
  },
  {
   "cell_type": "code",
   "execution_count": 92,
   "metadata": {},
   "outputs": [
    {
     "data": {
      "text/plain": [
       "22521"
      ]
     },
     "execution_count": 92,
     "metadata": {},
     "output_type": "execute_result"
    }
   ],
   "source": [
    "user1"
   ]
  },
  {
   "cell_type": "code",
   "execution_count": null,
   "metadata": {},
   "outputs": [],
   "source": [
    "\n",
    "user_id = label_encoder.fit_transform([user])\n",
    "predictions = [model.predict(user_id, item_id) for item_id in df_mod['item_id']]\n",
    "recommendations = sorted(predictions, key=lambda x: x.est, reverse=True) # Obtén las mejores 5 recomendaciones\n",
    "recommendations = pd.DataFrame(recommendations)\n",
    "recommendations = recommendations.drop_duplicates(subset='iid')\n",
    "df_steam = pd.read_csv('./datasets/steam_games.csv')\n",
    "merge = pd.merge(df_steam[['app_name','id']],recommendations,left_on='id',right_on='iid',how='right')\n",
    "merge[['app_name']].dropna()[:5]"
   ]
  },
  {
   "cell_type": "code",
   "execution_count": null,
   "metadata": {},
   "outputs": [],
   "source": [
    "label_encoder.fit_transform(234123234)"
   ]
  },
  {
   "cell_type": "code",
   "execution_count": null,
   "metadata": {},
   "outputs": [],
   "source": [
    "def user_recommend(user:str):\n",
    "    \n",
    "\n",
    "    # Abrir y cargar el modelo SVD de archivos\n",
    "    with open('./model/SVD_model.pkl', 'rb') as archivo:\n",
    "        model = pickle.load(archivo)\n",
    "\n",
    "    # Cargo las reseñas de usuarios \n",
    "    user_reviews = pd.read_csv('./datasets/user_reviews.csv',usecols=['user_id','item_id','sentiment_analysis'])\n",
    "\n",
    "    # Cargo la lista de juegos de steam\n",
    "    df_steam = pd.read_csv('./datasets/steam_games.csv')\n",
    "\n",
    "    # Creo un label enconder para usuario\n",
    "    label_encoder = LabelEncoder()\n",
    "    user_id = label_encoder.fit_transform([user])\n",
    "\n",
    "    # Predecir la puntuación del usuario para cada juego\n",
    "    predictions = [model.predict(user, item_id) for item_id in user_reviews['item_id']]\n",
    "    recommendations = sorted(predictions, key=lambda x: x.est, reverse=True) # Obtén las mejores 5 recomendaciones\n",
    "\n",
    "    # Ordenar las predicciones en orden descendente de la estimación y recoger las primeras 5\n",
    "    recommendations = sorted(predictions, key=lambda x: x.est, reverse=True)\n",
    "\n",
    "    # Convertir las recomendaciones en un DataFrame de pandas\n",
    "    recommendations = pd.DataFrame(recommendations)\n",
    "\n",
    "    # Eliminar duplicados basados en el id del juego\n",
    "    recommendations = recommendations.drop_duplicates(subset='iid')\n",
    "\n",
    "    # Mergeo la lista de juegos con las recomendaciones en base al id del juego\n",
    "    merge = pd.merge(df_steam[['app_name','id']],recommendations,left_on='id',right_on='iid',how='right')\n",
    "\n",
    "    rec = merge[['app_name']].dropna()[:5].values.tolist()\n",
    "\n",
    "    # Retornar los juegos como un diccionario\n",
    "    return {\n",
    "        'Recomendacion 1 ': rec[0][0],\n",
    "        'Recomendacion 2 ': rec[1][0],\n",
    "        'Recomendacion 3 ': rec[2][0],\n",
    "        'Recomendacion 4 ': rec[3][0],\n",
    "        'Recomendacion 5 ': rec[4][0]\n",
    "    }\n"
   ]
  },
  {
   "cell_type": "code",
   "execution_count": null,
   "metadata": {},
   "outputs": [],
   "source": [
    "user_recommend(1231)"
   ]
  }
 ],
 "metadata": {
  "kernelspec": {
   "display_name": ".venv",
   "language": "python",
   "name": "python3"
  },
  "language_info": {
   "codemirror_mode": {
    "name": "ipython",
    "version": 3
   },
   "file_extension": ".py",
   "mimetype": "text/x-python",
   "name": "python",
   "nbconvert_exporter": "python",
   "pygments_lexer": "ipython3",
   "version": "3.8.18"
  }
 },
 "nbformat": 4,
 "nbformat_minor": 2
}
